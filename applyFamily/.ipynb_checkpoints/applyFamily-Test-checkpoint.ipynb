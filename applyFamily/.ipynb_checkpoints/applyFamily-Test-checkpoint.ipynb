{
 "cells": [
  {
   "cell_type": "code",
   "execution_count": null,
   "metadata": {
    "slideshow": {
     "slide_type": "skip"
    }
   },
   "outputs": [],
   "source": [
    "from notebook.services.config import ConfigManager\n",
    "cm = ConfigManager()\n",
    "#![Rlogo](\"E:\\\\Repos\\\\Notebooks\\\\applyFamily\\\\Rlogo.png\")\n",
    "cm.update('livereveal', {\n",
    "    'width':1000,\n",
    "    'height':500,\n",
    "    'scroll':True,\n",
    "    })\n"
   ]
  },
  {
   "cell_type": "markdown",
   "metadata": {
    "slideshow": {
     "slide_type": "slide"
    }
   },
   "source": [
    "# Demystifying R's `*apply` Family of Functions    \n",
    "<img src=\"./Rlogo.png\" align=\"right\" width=\"300\"/>    \n",
    "<br>     "
   ]
  },
  {
   "cell_type": "markdown",
   "metadata": {
    "slideshow": {
     "slide_type": "-"
    }
   },
   "source": [
    "### By: James D. Triveri<br>Date: 2017-10-12        "
   ]
  },
  {
   "cell_type": "markdown",
   "metadata": {
    "slideshow": {
     "slide_type": "slide"
    }
   },
   "source": [
    "## Base R comes pre-installed with a number of `*apply`-family functions:   \n",
    "           \n",
    "<br>\n",
    "*  `apply(X, MARGIN, FUN, ...)`                  \n",
    "<br>\n",
    "*  `lapply(X, FUN, ...)`    \n",
    "<br>\n",
    "*  `sapply(X, FUN, ..., simplify=TRUE, USE.NAMES=TRUE)`        \n",
    "<br>   \n",
    "*  `vapply(X, FUN, FUN.VALUE, ..., USE.NAMES=TRUE)`        \n",
    "<br>   \n",
    "*  `mapply(FUN, ..., MoreArgs=NULL, SIMPLIFY=TRUE, USE.NAMES=TRUE)`        \n",
    "<br>    \n",
    "*  `tapply(X, INDEX, FUN = NULL, …, default = NA, simplify = TRUE)`     \n",
    "<br>      \n",
    "*  `mclapply(X, FUN, ...)`      \n",
    "<br>\n"
   ]
  },
  {
   "cell_type": "markdown",
   "metadata": {
    "slideshow": {
     "slide_type": "slide"
    }
   },
   "source": [
    "## Functional Primitives\n",
    "<br>\n",
    "In addition to the `*apply` family, there are 3 functional primitives that           \n",
    "serve a similiar purpose:     \n",
    "<br>       \n",
    "*  `Reduce(f, x, init, right = FALSE, accumulate = FALSE)`            \n",
    "<br>   \n",
    "*  `Filter(f, x)`             \n",
    "<br>      \n",
    "*  `Map(f, ...)`             \n",
    "<br>\n",
    "\n",
    "With so many tools to accomplish a similiar set of tasks, where        \n",
    "does one even begin?    \n",
    "<br>\n"
   ]
  },
  {
   "cell_type": "markdown",
   "metadata": {
    "slideshow": {
     "slide_type": "slide"
    }
   },
   "source": [
    "## Topics to cover:\n",
    "<br>\n",
    "\n",
    "*  The origins of the `*apply` family of functions       \n",
    "<br>   \n",
    "*  Use cases of `*apply` functions and related functional primitives   \n",
    "<br>    \n",
    "*  Relationship between functional primitives and `*apply` family functions    \n",
    "<br>    \n",
    "*  The core tenets of the functional programming pardigm    \n",
    "<br>    \n",
    "*  How to incorporate functional programming best practices into your development     \n",
    "<br>\n",
    "\n"
   ]
  },
  {
   "cell_type": "markdown",
   "metadata": {
    "slideshow": {
     "slide_type": "slide"
    }
   },
   "source": [
    "## Origins of R\n",
    "<br>\n",
    "**Where does R come from?**\n",
    "<br>\n",
    "```\n",
    "\n",
    "        LISP (John McCarthy, 1958)                     \n",
    "                \\\n",
    "                 \\                                  S Language (John Chambers, 1976)\n",
    "                  \\                                      /     \n",
    "                Scheme (Guy L. Steele 1970)             /\n",
    "                                           \\           / \n",
    "                                            \\         /    \n",
    "                                             \\       /\n",
    "                                              \\     /\n",
    "                                               \\   /\n",
    "                                       R (Ihaka & Gentleman, 1993)      \n",
    "         \n",
    "\n",
    "```\n",
    "<br>\n"
   ]
  },
  {
   "cell_type": "markdown",
   "metadata": {
    "slideshow": {
     "slide_type": "slide"
    }
   },
   "source": [
    "## LISP background\n",
    "<br>\n",
    "*  LISP is the second oldest programming language still used today.          \n",
    "   Only Fortran is older, created one year earlier (in 1957).       \n",
    "<br>    \n",
    "*  LISP pioneered many ideas in computer science, including tree data structures,       \n",
    "   dynamic typing, conditionals, higher-order functions and recursion.       \n",
    "<br>\n",
    "*  LISP is still used extensively by Artificial Intelligence researchers, and is     \n",
    "   still the official programming language of MIT's AI Lab.     \n",
    "<br>\n",
    "*  Originally created as a practical mathematical notation for computer programs,     \n",
    "   influenced by the notation of Alonzo Church's lambda calculus.     \n",
    "<br>\n",
    "*  The syntax is notoriously unwieldy and difficult to interpret - a.k.a.     \n",
    "   \"fully parenthesized prefix notation\".         \n",
    "<br>   \n"
   ]
  },
  {
   "cell_type": "markdown",
   "metadata": {
    "slideshow": {
     "slide_type": "slide"
    }
   },
   "source": [
    "## Sample LISP function declaration"
   ]
  },
  {
   "cell_type": "code",
   "execution_count": null,
   "metadata": {
    "collapsed": true,
    "slideshow": {
     "slide_type": "-"
    }
   },
   "outputs": [],
   "source": [
    "\n",
    "(defparameter *source* \n",
    "  '(lambda (x) (let ((y (+ x 0.1))) \n",
    "      (format t \"foo! ~a~%\" (+ x y)) x)))\n",
    "          (LAMBDA (X)\n",
    "      (LET ((Y (+ X 0.1)))\n",
    "   (FORMAT T \"foo! ~a~%\" (+ X Y))\n",
    "X))\n",
    "; No value\n"
   ]
  },
  {
   "cell_type": "markdown",
   "metadata": {
    "slideshow": {
     "slide_type": "subslide"
    }
   },
   "source": [
    "## From xkcd:\n",
    "<br>\n",
    "<img src=\"./lisp_cycles.png\" align=\"center\" width=800/>   \n",
    "<br>"
   ]
  },
  {
   "cell_type": "markdown",
   "metadata": {
    "slideshow": {
     "slide_type": "slide"
    }
   },
   "source": [
    "## Functional Programming Paradigm        \n",
    "<br>\n",
    "*  LISP (in addition to Scheme) are examples of ***Functional Programming Languages***          \n",
    "<br>\n",
    "*  **What makes a programming language \"functional\"?**      \n",
    "<br>\n",
    "Hint: It's more than support for user-defined functions!     \n",
    "<br>    \n"
   ]
  },
  {
   "cell_type": "markdown",
   "metadata": {
    "slideshow": {
     "slide_type": "subslide"
    }
   },
   "source": [
    "## Functional Programming Paradigm\n",
    "<br>\n",
    "*  Functions are pure (i.e. no side-effects)            \n",
    "<br>    \n",
    "*  Functions are *First-Class*        \n",
    "<br>           \n",
    "*  Variables are immutable     \n",
    "<br>\n"
   ]
  },
  {
   "cell_type": "markdown",
   "metadata": {
    "slideshow": {
     "slide_type": "slide"
    }
   },
   "source": [
    "## Functions are pure (i.e. no side-effects)...     \n",
    "<br>\n",
    "*  A pure function is a function where the return value is only determined by      \n",
    "   its input values, without observable side effects.            \n",
    "<br>   \n",
    "*  This is how functions in mathematics work: Ln(x) will, for the same value of x,             \n",
    "   always return the same result.             \n",
    "<br>"
   ]
  },
  {
   "cell_type": "markdown",
   "metadata": {
    "slideshow": {
     "slide_type": "subslide"
    }
   },
   "source": [
    "## Example of a non-pure function declaration:"
   ]
  },
  {
   "cell_type": "code",
   "execution_count": null,
   "metadata": {
    "collapsed": true,
    "slideshow": {
     "slide_type": "-"
    }
   },
   "outputs": [],
   "source": [
    "# ===================================\n",
    "# non-pure natural-log declaration =>\n",
    "# ===================================\n",
    "def non_pure_natural_log(x):\n",
    "\n",
    "    result = Ln(x)\n",
    "    \n",
    "    # print message to console =>  SIDE-EFFECT #1!\n",
    "    print(\"Oh and by the way, which one's Pink?\")\n",
    "    \n",
    "    # close database connection => SIDE-EFFECT #2!\n",
    "    conn1.close(purge=True)        \n",
    "    \n",
    "    # close a file descriptor   => SIDE-EFFECT #3!\n",
    "    f.close()\n",
    "    \n",
    "    # finally, return `result`\n",
    "    return(result)\n",
    "  "
   ]
  },
  {
   "cell_type": "markdown",
   "metadata": {
    "slideshow": {
     "slide_type": "-"
    }
   },
   "source": [
    "**Even when programming in a non-functional language, avoiding this type     \n",
    "of design pattern (or \"anti-pattern\") can greatly reduce the number of bugs       \n",
    "introduced into your codebase.**          "
   ]
  },
  {
   "cell_type": "markdown",
   "metadata": {
    "slideshow": {
     "slide_type": "slide"
    }
   },
   "source": [
    "## Functions are First-Class...\n",
    "<br>\n",
    "Support for first-class functions means the language supports passing functions           \n",
    "as arguments to other functions, returning them as the values from other functions,       \n",
    "and assigning them to variables or storing them in data structures.   \n",
    "<br>"
   ]
  },
  {
   "cell_type": "markdown",
   "metadata": {
    "slideshow": {
     "slide_type": "subslide"
    }
   },
   "source": [
    "## Example of a first-class function declaration in R:"
   ]
  },
  {
   "cell_type": "code",
   "execution_count": null,
   "metadata": {
    "collapsed": true,
    "slideshow": {
     "slide_type": "-"
    }
   },
   "outputs": [],
   "source": [
    "# ==============================================================     \n",
    "# function `f` takes argument func, which is another function =>\n",
    "# ==============================================================\n",
    "f = function(a, b, func) {\n",
    "    return(func(a*b))\n",
    "}\n",
    "\n",
    "# Then, passing functions as arguments to f =>\n",
    "f(.5, .6, cos)\n",
    "f(.5, .6, tan)\n",
    "f(.5, .6, exp)"
   ]
  },
  {
   "cell_type": "markdown",
   "metadata": {
    "slideshow": {
     "slide_type": "-"
    }
   },
   "source": [
    "**Since R has semantics inherited from Scheme, First-Class functions      \n",
    "are supported.**\n",
    "  \n"
   ]
  },
  {
   "cell_type": "markdown",
   "metadata": {
    "slideshow": {
     "slide_type": "slide"
    }
   },
   "source": [
    "##  Variables are immutable..."
   ]
  },
  {
   "cell_type": "markdown",
   "metadata": {
    "slideshow": {
     "slide_type": "-"
    }
   },
   "source": [
    "*Immutability* means that once a variable has been assigned to an           \n",
    "object, it cannot be reassigned to another object.          \n",
    "<br>\n",
    "An immutability violation frequently found in non-functional              \n",
    "implementations is the mutating loop tracker.   \n",
    "<br>    "
   ]
  },
  {
   "cell_type": "markdown",
   "metadata": {
    "slideshow": {
     "slide_type": "subslide"
    }
   },
   "source": [
    "## Example of a mutating iteration scheme:"
   ]
  },
  {
   "cell_type": "code",
   "execution_count": null,
   "metadata": {
    "collapsed": true,
    "slideshow": {
     "slide_type": "-"
    }
   },
   "outputs": [],
   "source": [
    "# ===================================================\n",
    "# Populate a vector with 10 random uniform numbers =>\n",
    "# ===================================================\n",
    "i = 1\n",
    "l = vector()\n",
    "\n",
    "while (i<10) {\n",
    "\n",
    "    l[i] = runif(1)\n",
    "    \n",
    "    i = i+1 # re-binding `i` to `i+1` not allowed by the functional paradigm!  \n",
    "}    \n"
   ]
  },
  {
   "cell_type": "markdown",
   "metadata": {
    "slideshow": {
     "slide_type": "slide"
    }
   },
   "source": [
    "## How do functional laguages perform operations on sequences without mutable state?      \n",
    "\n",
    "**Recursion!**        \n",
    "<br>\n",
    "From the Wikipedia entry for Recursion(computer science):      \n",
    "\n",
    "*Recursion in computer science is a method where the solution to a problem depends on          \n",
    "solutions to smaller instances of the same problem (as opposed to iteration). The         \n",
    "approach can be applied to many types of problems. Recursion is one of the central           \n",
    "ideas of computer science.*           \n",
    "<br>   \n",
    "\n"
   ]
  },
  {
   "cell_type": "markdown",
   "metadata": {
    "slideshow": {
     "slide_type": "subslide"
    }
   },
   "source": [
    "## The \"Hello, World!\" of recursive functional design:"
   ]
  },
  {
   "cell_type": "code",
   "execution_count": null,
   "metadata": {
    "collapsed": true,
    "slideshow": {
     "slide_type": "-"
    }
   },
   "outputs": [],
   "source": [
    "# ==========================================\n",
    "# Recursive factorial implementation in R =>\n",
    "# ==========================================\n",
    "factorial = function(n) {\n",
    "    if (n==1) {\n",
    "        return(1)\n",
    "    } else {\n",
    "        return(n*factorial(n-1))\n",
    "    }\n",
    "}\n",
    "\n",
    "# calling factorial function =>\n",
    "factorial(5)  # returns 120\n",
    "factorial(10) # returns 3628800"
   ]
  },
  {
   "cell_type": "markdown",
   "metadata": {
    "slideshow": {
     "slide_type": "slide"
    }
   },
   "source": [
    "## Origin of `*apply` Family Functions\n",
    "\n",
    "*  Given that functional programming languages disallow mutable state    \n",
    "   by their very nature, a different approach was needed in order to          \n",
    "   perform operations on arrays.      \n",
    "<br>  \n",
    "*  The solution was `map`, from which R's `lapply` is a direct descendant.     \n",
    "<br>     \n",
    "*  **`map(<function>, <applied_to_array>)`**      \n",
    "<br>\n",
    "*  By transforming the computation from an iterative to a vectorized scheme,      \n",
    "   McCarthy was able to preserve functional integrity, and unbeknownst to him,     \n",
    "   created one of the most commonly used designed patterns in all of computer     \n",
    "   programming, functional or otherwise.             \n",
    "<br>    \n",
    "*  Today, almost every programming language offer support for the Holy Trinity      \n",
    "   of functional programming: `Map`, `Reduce` and `Filter`.            \n",
    "<br>   \n",
    "\n",
    "   \n"
   ]
  },
  {
   "cell_type": "markdown",
   "metadata": {
    "slideshow": {
     "slide_type": "slide"
    }
   },
   "source": [
    "## `map` Deconstructed"
   ]
  },
  {
   "cell_type": "markdown",
   "metadata": {
    "slideshow": {
     "slide_type": "-"
    }
   },
   "source": [
    "*  In many programming languages, map is the name of a higher-order function    \n",
    "   that applies a given function to each element of a list, returning a list     \n",
    "   of results in the same order. It is often called `apply-to-all` when     \n",
    "   considered in functional form.          \n",
    "<br>"
   ]
  },
  {
   "cell_type": "code",
   "execution_count": null,
   "metadata": {
    "slideshow": {
     "slide_type": "subslide"
    }
   },
   "outputs": [],
   "source": [
    "# ==============================================\n",
    "# Assume an array of data to which we want to  |\n",
    "# apply a function that adds 2 to each element.|\n",
    "# What follows are imperative and functional   |\n",
    "# approaches                                   | \n",
    "# ==============================================\n",
    "arr = 1:20\n",
    "\n",
    "# `add2` declaration\n",
    "add2 = function(n) return(n+2)\n",
    "\n",
    "    \n",
    "# Imperative approach (in R) =>\n",
    "vresult = c()\n",
    "for (i in 1:length(arr)) {\n",
    "    \n",
    "    vresult[i] = add2(i)\n",
    "    \n",
    "}\n",
    "\n",
    "print(vresult)"
   ]
  },
  {
   "cell_type": "code",
   "execution_count": null,
   "metadata": {
    "slideshow": {
     "slide_type": "-"
    }
   },
   "outputs": [],
   "source": [
    "# Functional approach (in R) =>\n",
    "vresult = sapply(arr, add2)\n",
    "\n",
    "# Using functional primitive: Same as\n",
    "# lapply, arguments switched! =>\n",
    "vresult = unlist(Map(add2, arr))\n",
    "\n",
    "print(vresult)"
   ]
  },
  {
   "cell_type": "code",
   "execution_count": null,
   "metadata": {
    "collapsed": true
   },
   "outputs": [],
   "source": []
  },
  {
   "cell_type": "markdown",
   "metadata": {
    "slideshow": {
     "slide_type": "skip"
    }
   },
   "source": [
    "In many programming languages, map is the name of a higher-order function that applies a given function to each element of a list, returning a list of results in the same order. It is often called apply-to-all when considered in functional form.\n",
    "\n",
    "\n",
    "The map function originated in functional programming languages.\n",
    "\n",
    "\n",
    "The language Lisp introduced a map function called maplist[2] in 1959, with slightly different versions already appearing in 1958.[3] This is the original definition for maplist, mapping a function over successive rest lists:\n",
    "\n",
    "\n",
    "\n"
   ]
  },
  {
   "cell_type": "markdown",
   "metadata": {
    "slideshow": {
     "slide_type": "skip"
    }
   },
   "source": [
    "lapply returns a list of the same length as X, each element of which is the result of applying FUN to the corresponding element of X.\n",
    "\n",
    "sapply is a user-friendly version and wrapper of lapply by default returning a vector, matrix or, if simplify = \"array\", an array if appropriate, by applying simplify2array(). sapply(x, f, simplify = FALSE, USE.NAMES = FALSE) is the same as lapply(x, f).\n",
    "\n",
    "\n",
    "vapply is similar to sapply, but has a pre-specified type of return value, so it can be safer (and sometimes faster) to use.\n",
    "\n",
    "\n",
    "mapply is a multivariate version of sapply. mapply applies FUN to the first elements of each ... argument, the second elements, the third elements, and so on. Arguments are recycled if necessary.\n",
    "\n",
    "\n",
    "apply returns a vector or array or list of values obtained by applying a function to margins of an array or matrix.\n",
    "\n",
    "\n",
    "tapply Applies a function to each cell of a ragged array, that is to each (non-empty) group of values given by a unique combination of the levels of certain factors.\n",
    "\n",
    "\n",
    "mclapply is a parallelized version of lapply, it returns a list of the same length as X, each element of which is the result of applying FUN to the corresponding element of X. It relies on forking and hence is not available on Windows unless mc.cores = 1\n",
    "\n",
    "\n",
    "\n",
    "\n",
    "\n",
    "\n",
    "\n",
    "apply(X, MARGIN, FUN, ...)\n",
    "\n",
    "lapply(X, FUN, ...)\n",
    "\n",
    "sapply(X, FUN, ..., simplify = TRUE, USE.NAMES = TRUE)\n",
    "\n",
    "vapply(X, FUN, FUN.VALUE, ..., USE.NAMES = TRUE)\n",
    "\n",
    "mapply(FUN, ..., MoreArgs = NULL, SIMPLIFY = TRUE, USE.NAMES = TRUE)\n",
    "\n"
   ]
  },
  {
   "cell_type": "code",
   "execution_count": null,
   "metadata": {
    "collapsed": true,
    "slideshow": {
     "slide_type": "skip"
    }
   },
   "outputs": [],
   "source": [
    "IPython.display import Image, display\n",
    "display(Image(filename='output1.png'))"
   ]
  },
  {
   "cell_type": "markdown",
   "metadata": {
    "slideshow": {
     "slide_type": "skip"
    }
   },
   "source": [
    "### Equivalences\n",
    "\n",
    "sapply(*, simplify = FALSE, USE.NAMES = FALSE) is equivalent to lapply(*)."
   ]
  },
  {
   "cell_type": "markdown",
   "metadata": {
    "slideshow": {
     "slide_type": "skip"
    }
   },
   "source": [
    "mapply(rep, 1:4, 4:1)\n",
    "\n",
    "mapply(rep, times = 1:4, x = 4:1)\n",
    "\n",
    "mapply(rep, times = 1:4, MoreArgs = list(x = 42))\n",
    "\n",
    "mapply(function(x, y) seq_len(x) + y,\n",
    "       c(a =  1, b = 2, c = 3),  # names from first\n",
    "       c(A = 10, B = 0, C = -10))\n",
    "\n",
    "word <- function(C, k) paste(rep.int(C, k), collapse = \"\")\n",
    "utils::str(mapply(word, LETTERS[1:6], 6:1, SIMPLIFY = FALSE))\n",
    "\n",
    "\n",
    "\n",
    "\n",
    "mapply(rep, 1:4, 4:1)\n",
    "mapply(rep, times = 1:4, x = 4:1)\n",
    "mapply(rep, times = 1:4, MoreArgs = list(x = 42))\n",
    "mapply(function(x, y) seq_len(x) + y,\n",
    "       c(a =  1, b = 2, c = 3),  # names from first\n",
    "       c(A = 10, B = 0, C = -10))\n",
    "word <- function(C, k) paste(rep.int(C, k), collapse = \"\")\n",
    "utils::str(mapply(word, LETTERS[1:6], 6:1, SIMPLIFY = FALSE))\n",
    "\n",
    "\n",
    "\n",
    "\n",
    "n <- 17; fac <- factor(rep_len(1:3, n), levels = 1:5)\n",
    "table(fac)\n",
    "tapply(1:n, fac, sum)\n",
    "tapply(1:n, fac, sum, default = 0) # maybe more desirable\n",
    "tapply(1:n, fac, sum, simplify = FALSE)\n",
    "tapply(1:n, fac, range)\n",
    "tapply(1:n, fac, quantile)\n",
    "tapply(1:n, fac, length) ## NA's\n",
    "tapply(1:n, fac, length, default = 0) # == table(fac)\n",
    "\n",
    "\n",
    "Now, we want to calculate the mean of the Sepal Length but broken by the Species, so we will use the tapply() function\n",
    "\n",
    "tapply(iris$Sepal.Length, iris$Species, mean)\n",
    "\n"
   ]
  },
  {
   "cell_type": "code",
   "execution_count": null,
   "metadata": {
    "collapsed": true,
    "slideshow": {
     "slide_type": "skip"
    }
   },
   "outputs": [],
   "source": []
  },
  {
   "cell_type": "code",
   "execution_count": null,
   "metadata": {
    "collapsed": true,
    "slideshow": {
     "slide_type": "skip"
    }
   },
   "outputs": [],
   "source": []
  }
 ],
 "metadata": {
  "celltoolbar": "Slideshow",
  "kernelspec": {
   "display_name": "R",
   "language": "R",
   "name": "ir"
  },
  "language_info": {
   "codemirror_mode": "r",
   "file_extension": ".r",
   "mimetype": "text/x-r-source",
   "name": "R",
   "pygments_lexer": "r",
   "version": "3.4.1"
  }
 },
 "nbformat": 4,
 "nbformat_minor": 2
}
